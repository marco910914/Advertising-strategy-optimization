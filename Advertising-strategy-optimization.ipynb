{
 "cells": [
  {
   "cell_type": "code",
   "execution_count": 4,
   "id": "d3b996b6",
   "metadata": {},
   "outputs": [
    {
     "name": "stdout",
     "output_type": "stream",
     "text": [
      "選擇的廣告平台:\n",
      "平台 C, 成本: 150, 點擊率: 0.045, 點擊數: 6.75\n",
      "平台 A, 成本: 200, 點擊率: 0.05, 點擊數: 10.00\n",
      "平台 E, 成本: 250, 點擊率: 0.055, 點擊數: 13.75\n",
      "平台 B, 成本: 300, 點擊率: 0.04, 點擊數: 12.00\n",
      "平台 D, 成本: 500, 點擊率: 0.015, 點擊數: 7.50\n",
      "總成本: 1400, 總點擊數: 46.69\n"
     ]
    }
   ],
   "source": [
    "# 定義廣告平台及其成本和點擊率下降規則\n",
    "platforms = [\n",
    "    {\"name\": \"A\", \"base_cost\": 200, \"ctr\": 0.05, \"decline\": (100, 0.02)},\n",
    "    {\"name\": \"B\", \"base_cost\": 300, \"ctr\": 0.04, \"decline\": (50, 0.02)},\n",
    "    {\"name\": \"C\", \"base_cost\": 150, \"ctr\": 0.045, \"decline\": (100, 0.03)},\n",
    "    {\"name\": \"D\", \"base_cost\": 500, \"ctr\": 0.015, \"decline\": (float('inf'), 0.0)},  # 無下降\n",
    "    {\"name\": \"E\", \"base_cost\": 250, \"ctr\": 0.055, \"decline\": (100, 0.05)}\n",
    "]\n",
    "\n",
    "# 預算\n",
    "budget = 1400\n",
    "\n",
    "def calculate_effectiveness(platform, investment):\n",
    "    # 計算給定投資下的實際CTR\n",
    "    base_ctr = platform[\"ctr\"]\n",
    "    decline_interval, decline_rate = platform[\"decline\"]\n",
    "    \n",
    "    if investment <= decline_interval:\n",
    "        return base_ctr\n",
    "    \n",
    "    # 計算下降後的CTR\n",
    "    intervals = investment // decline_interval\n",
    "    declined_ctr = base_ctr * ((1 - decline_rate) ** intervals)\n",
    "    return declined_ctr\n",
    "\n",
    "# 貪婪選擇平台\n",
    "selected_platforms = []\n",
    "total_cost = 0\n",
    "total_clicks = 0\n",
    "\n",
    "while total_cost < budget:\n",
    "    best_platform = None\n",
    "    best_effectiveness = 0\n",
    "    best_additional_cost = 0\n",
    "    best_additional_clicks = 0\n",
    "    \n",
    "    for platform in platforms:\n",
    "        investment = platform[\"base_cost\"]\n",
    "        if total_cost + investment <= budget:\n",
    "            current_ctr = calculate_effectiveness(platform, investment)\n",
    "            effectiveness = current_ctr / investment\n",
    "            if effectiveness > best_effectiveness:\n",
    "                best_effectiveness = effectiveness\n",
    "                best_platform = platform\n",
    "                best_additional_cost = investment\n",
    "                best_additional_clicks = current_ctr * investment\n",
    "    \n",
    "    if best_platform is None:\n",
    "        break\n",
    "    \n",
    "    selected_platforms.append(best_platform)\n",
    "    total_cost += best_additional_cost\n",
    "    total_clicks += best_additional_clicks\n",
    "    platforms.remove(best_platform)\n",
    "\n",
    "# 結果\n",
    "print(\"選擇的廣告平台:\")\n",
    "for platform in selected_platforms:\n",
    "    print(f\"平台 {platform['name']}, 成本: {platform['base_cost']}, 點擊率: {platform['ctr']}, 點擊數: {platform['ctr'] * platform['base_cost']:.2f}\")\n",
    "\n",
    "print(f\"總成本: {total_cost}, 總點擊數: {total_clicks:.2f}\")"
   ]
  },
  {
   "cell_type": "code",
   "execution_count": null,
   "id": "ba042203",
   "metadata": {},
   "outputs": [],
   "source": []
  },
  {
   "cell_type": "code",
   "execution_count": null,
   "id": "e0be3735",
   "metadata": {},
   "outputs": [],
   "source": []
  }
 ],
 "metadata": {
  "kernelspec": {
   "display_name": "Python 3 (ipykernel)",
   "language": "python",
   "name": "python3"
  },
  "language_info": {
   "codemirror_mode": {
    "name": "ipython",
    "version": 3
   },
   "file_extension": ".py",
   "mimetype": "text/x-python",
   "name": "python",
   "nbconvert_exporter": "python",
   "pygments_lexer": "ipython3",
   "version": "3.11.4"
  }
 },
 "nbformat": 4,
 "nbformat_minor": 5
}
